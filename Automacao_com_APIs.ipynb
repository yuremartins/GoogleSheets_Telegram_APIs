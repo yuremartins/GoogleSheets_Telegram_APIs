{
  "nbformat": 4,
  "nbformat_minor": 0,
  "metadata": {
    "colab": {
      "provenance": []
    },
    "kernelspec": {
      "name": "python3",
      "display_name": "Python 3"
    },
    "language_info": {
      "name": "python"
    }
  },
  "cells": [
    {
      "cell_type": "markdown",
      "source": [
        "# Projeto de Automação com API's - Telegram integrado ao Goolge Sheets"
      ],
      "metadata": {
        "id": "QfIBZU1pXaSz"
      }
    },
    {
      "cell_type": "markdown",
      "source": [
        "## 1\\. Contexto"
      ],
      "metadata": {
        "id": "sy6KmOhBXxcI"
      }
    },
    {
      "cell_type": "markdown",
      "source": [
        "Este é um projeto que utiliza a biblioteca telebot do Python para criar um bot no Telegram que recebe mensagens contendo informações de itens, quantidades e preços, e os armazena em uma planilha do Google Sheets."
      ],
      "metadata": {
        "id": "2JWDEFnmXIEQ"
      }
    },
    {
      "cell_type": "markdown",
      "source": [
        "As principais funcionalidades do projeto incluem:\n",
        "\n",
        "- Receber mensagens no formato \"item/quantidade/preço\" e salvá-las em uma planilha do Google Sheets\n",
        "- Extrair informações de data atual e conteúdo da mensagem recebida\n",
        "- Autenticar com as credenciais da API do Google Sheets e usar a biblioteca googleapiclient para acessar e manipular planilhas\n",
        "- Tratar erros de autenticação e de inserção de valores na planilha"
      ],
      "metadata": {
        "id": "aTUQsIz9XSPI"
      }
    },
    {
      "cell_type": "markdown",
      "source": [
        "No geral, este projeto pode ser útil para empresas ou indivíduos que desejam armazenar informações de forma automatizada e organizada, especialmente para controle de estoque ou finanças. O uso do Telegram como plataforma de comunicação permite que os usuários enviem informações rapidamente e com facilidade, enquanto a integração com o Google Sheets permite o armazenamento e organização dessas informações em uma planilha acessível em qualquer lugar com conexão à internet."
      ],
      "metadata": {
        "id": "8zDwlXmUXVJ2"
      }
    },
    {
      "cell_type": "markdown",
      "source": [
        "## 2\\. Preparação"
      ],
      "metadata": {
        "id": "ApEzykliY3Vh"
      }
    },
    {
      "cell_type": "markdown",
      "source": [
        "####2.1.BotFather"
      ],
      "metadata": {
        "id": "u4Rz75JgZdFd"
      }
    },
    {
      "cell_type": "markdown",
      "source": [
        "Para criar um bot no Telegram e obter uma chave de API, siga os seguintes passos:\n",
        "\n",
        "- Abra o aplicativo do Telegram e procure pelo bot \"@BotFather\".\n",
        "- Clique em \"Iniciar\" para iniciar uma conversa com o BotFather.\n",
        "- Envie a mensagem \"/newbot\" para o BotFather e siga as instruções para criar um novo bot. Você precisará fornecer um nome e um username para o seu bot.\n",
        "- Após criar o bot, o BotFather irá fornecer uma chave de API que você deve salvar em um local seguro. Essa chave é necessária para autenticar o seu bot sempre que ele se comunicar com o servidor do Telegram.\n",
        "\n",
        "Pronto! Agora você pode usar essa chave de API para autenticar o seu bot em qualquer aplicativo ou script que você estiver desenvolvendo para interagir com o Telegram.\n",
        "\n",
        "\n",
        "\n"
      ],
      "metadata": {
        "id": "0UONUJBtYlV1"
      }
    },
    {
      "cell_type": "markdown",
      "source": [
        " > Acesse pelo Telegram: [BotFather](https://telegram.me/BotFather)."
      ],
      "metadata": {
        "id": "GaWKo-ZhQj-6"
      }
    },
    {
      "cell_type": "markdown",
      "source": [
        "####2.2.Google Cloud Platform e API do Google Sheets"
      ],
      "metadata": {
        "id": "Y_eWCeITZkzi"
      }
    },
    {
      "cell_type": "markdown",
      "source": [
        "Criando um Projeto no Google Cloud Platform\n",
        "Para podermos acessar a API do Google Sheets, precisamos criar um projeto no Google Cloud Platform e habilitar a API do Google Sheets. Siga as instruções abaixo:\n",
        "\n",
        "- Faça login no Google Cloud Console.\n",
        "- Crie um novo projeto clicando no botão \"Select a project\" no canto superior esquerdo da página e, em seguida, clicando em \"New Project\".\n",
        "- Digite um nome para o projeto e clique em \"Create\".\n",
        "- Selecione o projeto recém-criado no canto superior esquerdo da página.\n",
        "- Habilitar a API do Google Sheets. No painel de navegação à esquerda, selecione \"APIs & Services\" e, em seguida, \"Library\". Na barra de pesquisa, digite \"Google Sheets API\" e clique em \"Enable\".\n",
        "- Criar credenciais. No painel de navegação à esquerda, selecione \"APIs & Services\" e, em seguida, \"Credentials\". - Clique em \"Create Credentials\" e, em seguida, selecione \"Service account key\". Preencha as informações solicitadas e clique em \"Create\". Isso irá baixar um arquivo JSON contendo as credenciais de serviço.\n",
        "- Compartilhar a planilha. Abra a planilha que você deseja usar e compartilhe-a com o endereço de e-mail do serviço criado nas etapas anteriores."
      ],
      "metadata": {
        "id": "h38ygCX6aQud"
      }
    },
    {
      "cell_type": "markdown",
      "source": [
        " > Tutorial de como criar  a credencial e salva-la em arquivo Json: [YouTube](https://www.youtube.com/watch?v=llQb7w1zzd8)."
      ],
      "metadata": {
        "id": "ON8_-lPAbs-t"
      }
    },
    {
      "cell_type": "markdown",
      "source": [
        "## 3\\.Bibliotecas "
      ],
      "metadata": {
        "id": "tP7akr9ecVYF"
      }
    },
    {
      "cell_type": "markdown",
      "source": [
        "As bibliotecas utilizadas são:\n",
        "\n",
        "- telebot: biblioteca para trabalhar com a API do Telegram.\n",
        "- ServiceAccountCredentials e build da biblioteca googleapiclient.discovery: biblioteca para trabalhar com a API do Google Sheets.\n",
        "- datetime: biblioteca para trabalhar com datas e horários."
      ],
      "metadata": {
        "id": "jKW6tjzDn0Jv"
      }
    },
    {
      "cell_type": "code",
      "source": [
        "pip install pyTelegramBotAPI"
      ],
      "metadata": {
        "id": "2n7cGgAvcKVy"
      },
      "execution_count": null,
      "outputs": []
    },
    {
      "cell_type": "code",
      "execution_count": null,
      "metadata": {
        "id": "3IGxJiXvXAbT"
      },
      "outputs": [],
      "source": [
        "import telebot\n",
        "import datetime\n",
        "from oauth2client.service_account import ServiceAccountCredentials\n",
        "from googleapiclient.discovery import build\n",
        "from googleapiclient.errors import HttpError"
      ]
    },
    {
      "cell_type": "markdown",
      "source": [
        "## 4\\.Execução"
      ],
      "metadata": {
        "id": "P2Zbx934dA78"
      }
    },
    {
      "cell_type": "code",
      "source": [
        "# Definindo as credenciais do bot do Telegram e das APIs do Google Sheets\n",
        "telegram_token = 'BOT_TOKEN'\n",
        "google_credentials = ServiceAccountCredentials.from_json_keyfile_name('credenciais.json', ['https://www.googleapis.com/auth/spreadsheets'])\n",
        "google_sheets_id = 'ID_SHEETS'"
      ],
      "metadata": {
        "id": "TpNKCmLKdcjo"
      },
      "execution_count": null,
      "outputs": []
    },
    {
      "cell_type": "code",
      "source": [
        "# Definindo a função para lidar com as mensagens de adição de itens ao estoque\n",
        "def handle_message(message): \n",
        "    chat_id = message.chat.id\n",
        "    text = message.text\n",
        "    # Separando a mensagem em uma lista de itens\n",
        "    items = text.split(',') \n",
        "    \n",
        "    items = message.text.split('/')\n",
        "    if len(items) < 3:\n",
        "        bot.reply_to(message, 'Por favor, forneça uma mensagem no formato \"item/quantidade/preço\".')\n",
        "        return"
      ],
      "metadata": {
        "id": "mHjG9XThdwaM"
      },
      "execution_count": null,
      "outputs": []
    },
    {
      "cell_type": "markdown",
      "source": [
        "A função `handle_message(message)` é a responsável por lidar com as mensagens enviadas pelo usuário para o bot. Essa função recebe como parâmetro uma mensagem, que contém informações como o texto enviado pelo usuário e o ID do chat em que a mensagem foi enviada.\n",
        "\n",
        "As primeiras linhas da função fazem o processamento da mensagem enviada pelo usuário. Primeiramente, é feita a separação das informações enviadas pelo usuário, utilizando o caractere `\",\"` como separador. Em seguida, é feita uma verificação se o formato da mensagem está correto, ou seja, se ela contém as informações `\"item/quantidade/preço\"`. Caso a mensagem não esteja nesse formato, uma mensagem de erro é enviada para o usuário."
      ],
      "metadata": {
        "id": "d0E8ZNeuonjm"
      }
    },
    {
      "cell_type": "code",
      "source": [
        "    # Obter a data atual\n",
        "    current_time = datetime.datetime.now().strftime(\"%Y-%m-%d\")"
      ],
      "metadata": {
        "id": "ErDKIHUleFcO"
      },
      "execution_count": null,
      "outputs": []
    },
    {
      "cell_type": "markdown",
      "source": [
        "Se a mensagem estiver no formato correto, as informações são extraídas e armazenadas em variáveis separadas. A variável `current_time` é criada para armazenar a data atual."
      ],
      "metadata": {
        "id": "YTqMdxCRo4KA"
      }
    },
    {
      "cell_type": "code",
      "source": [
        "    # Extrair os valores do item, quantidade e preço da mensagem\n",
        "    description = items[0]\n",
        "    quantity = items[1]\n",
        "    value = items[2]\n",
        "\n",
        "try:\n",
        "        service = build('sheets', 'v4', credentials=google_credentials)\n",
        "        sheet = service.spreadsheets()\n",
        "\n",
        "        # Criar uma lista com os valores do item, quantidade, preço e data atual\n",
        "        row = [current_time, description, quantity, value]\n",
        "\n",
        "        # Inserir a lista de valores na planilha na primeira linha\n",
        "        result = sheet.values().append(\n",
        "            spreadsheetId=google_sheets_id,\n",
        "            range='Sheet1!A1',\n",
        "            valueInputOption='USER_ENTERED',\n",
        "            insertDataOption='INSERT_ROWS',\n",
        "            body={'values': [row]}\n",
        "        ).execute()\n",
        "\n",
        "        bot.send_message(chat_id, 'Mensagem salva com sucesso!')\n",
        "    except HttpError as error:\n",
        "        bot.send_message(chat_id, f'Ocorreu um erro ao salvar a mensagem: {error}')"
      ],
      "metadata": {
        "id": "dRyo0-rkeZDA"
      },
      "execution_count": null,
      "outputs": []
    },
    {
      "cell_type": "markdown",
      "source": [
        "Em seguida, a função tenta se conectar à API do Google Sheets para salvar as informações na planilha especificada. Para isso, são utilizadas as credenciais do Google Sheets e o identificador da planilha. É criada uma mensagem que contém as informações enviadas pelo usuário e é construído um objeto body com as informações da mensagem para serem inseridas na planilha.\n",
        "\n",
        "O método `values().append()` é chamado para adicionar as informações na planilha, utilizando as opções de inserção de dados `\"USER_ENTERED\"` e `\"INSERT_ROWS\"`. O resultado dessa operação é armazenado na variável result.\n",
        "\n",
        "Se ocorrer algum erro ao tentar salvar as informações na planilha, uma mensagem de erro é enviada para o usuário."
      ],
      "metadata": {
        "id": "vl0P6SPkpU5V"
      }
    },
    {
      "cell_type": "code",
      "source": [
        "# Iniciar o bot com o token\n",
        "bot = telebot.TeleBot(telegram_token) \n",
        "\n",
        "@bot.message_handler(func=lambda message: True)\n",
        "def handle_all_messages(message):\n",
        "    handle_message(message)\n",
        "\n",
        "bot.polling()"
      ],
      "metadata": {
        "id": "Vl7YhgfgenjN"
      },
      "execution_count": null,
      "outputs": []
    },
    {
      "cell_type": "markdown",
      "source": [
        "Por fim, a função `bot.polling()` é executada em um loop infinito para que o bot fique sempre escutando por novas mensagens enviadas pelos usuários. Qualquer exceção que ocorrer durante a execução é ignorada, garantindo que o bot continue funcionando mesmo em caso de erros."
      ],
      "metadata": {
        "id": "ih-veymZpaOu"
      }
    }
  ]
}
